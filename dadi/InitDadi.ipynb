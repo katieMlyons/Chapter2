{
 "cells": [
  {
   "cell_type": "code",
   "execution_count": 5,
   "metadata": {
    "collapsed": false
   },
   "outputs": [],
   "source": [
    "import dadi\n",
    "import os\n",
    "import sys\n",
    "import pandas as pd\n",
    "import numpy\n",
    "import matplotlib\n",
    "%matplotlib inline"
   ]
  },
  {
   "cell_type": "code",
   "execution_count": 4,
   "metadata": {
    "collapsed": true
   },
   "outputs": [],
   "source": [
    "import easySFS\n",
    "# isaac overcast's script for generating Spectrum objects from vcf files"
   ]
  },
  {
   "cell_type": "code",
   "execution_count": 16,
   "metadata": {
    "collapsed": false
   },
   "outputs": [],
   "source": [
    "# check out pops file first\n",
    "popsFile = pd.read_table(\"/home/katie/GoogleDrive/Chapter2/dadi/DadiPopList.txt\", header=None)"
   ]
  },
  {
   "cell_type": "code",
   "execution_count": 18,
   "metadata": {
    "collapsed": false
   },
   "outputs": [
    {
     "name": "stdout",
     "output_type": "stream",
     "text": [
      "tonkawae         68\n",
      "chisholmensis    26\n",
      "naufragia        18\n",
      "Name: 1, dtype: int64\n"
     ]
    }
   ],
   "source": [
    "print(popsFile[1].value_counts())\n",
    "# number of samples from each species"
   ]
  },
  {
   "cell_type": "code",
   "execution_count": 7,
   "metadata": {
    "collapsed": false
   },
   "outputs": [
    {
     "name": "stdout",
     "output_type": "stream",
     "text": [
      "usage: easySFS.py [-h] [-a] -i VCF_NAME -p POPULATIONS [--proj PROJECTIONS]\n",
      "                  [--preview] [-o OUTDIR] [--ploidy PLOIDY] [--prefix PREFIX]\n",
      "                  [--unfolded] [--dtype DTYPE] [--GQ GQUAL] [-f] [-v]\n",
      "\n",
      "optional arguments:\n",
      "  -h, --help          show this help message and exit\n",
      "  -a                  Keep all snps within each RAD locus (ie. do _not_\n",
      "                      randomly sample 1 snp per locus).\n",
      "  -i VCF_NAME         name of the VCF input file being converted\n",
      "  -p POPULATIONS      Input file containing population assignments per\n",
      "                      individual\n",
      "  --proj PROJECTIONS  List of values for projecting populations down to\n",
      "                      different sample sizes\n",
      "  --preview           Preview the number of segragating sites per population\n",
      "                      for different projection values.\n",
      "  -o OUTDIR           Directory to write output SFS to\n",
      "  --ploidy PLOIDY     Specify ploidy. Default is 2. Only other option is 1 for\n",
      "                      haploid.\n",
      "  --prefix PREFIX     Prefix for all output SFS files names.\n",
      "  --unfolded          Generate unfolded SFS. This assumes that your vcf file\n",
      "                      is accurately polarized.\n",
      "  --dtype DTYPE       Data type for use in output sfs. Options are `int` and\n",
      "                      `float`. Default is `float`.\n",
      "  --GQ GQUAL          minimum genotype quality tolerated\n",
      "  -f                  Force overwriting directories and existing files.\n",
      "  -v                  Set verbosity. Dump tons of info to the screen\n",
      "\n",
      "    \n"
     ]
    },
    {
     "ename": "SystemExit",
     "evalue": "1",
     "output_type": "error",
     "traceback": [
      "An exception has occurred, use %tb to see the full traceback.\n",
      "\u001b[0;31mSystemExit\u001b[0m\u001b[0;31m:\u001b[0m 1\n"
     ]
    }
   ],
   "source": [
    "%run easySFS.py --help"
   ]
  },
  {
   "cell_type": "code",
   "execution_count": 19,
   "metadata": {
    "collapsed": false,
    "scrolled": false
   },
   "outputs": [
    {
     "name": "stdout",
     "output_type": "stream",
     "text": [
      "Processing 3 populations - ['chisholmensis', 'naufragia', 'tonkawae']\n",
      "\n",
      "    Running preview mode. We will print out the results for # of segregating sites\n",
      "    for multiple values of projecting down for each population. The dadi\n",
      "    manual recommends maximizing the # of seg sites for projections, but also\n",
      "    a balance must be struck between # of seg sites and sample size.\n",
      "\n",
      "    For each population you should choose the value of the projection that looks\n",
      "    best and then rerun easySFS with the `--proj` flag.\n",
      "    \n",
      "chisholmensis\n",
      "(2, 540.0)\t(3, 809.0)\t(4, 972.0)\t(5, 1079.0)\t(6, 1160.0)\t(7, 1216.0)\t(8, 1266.0)\t(9, 1284.0)\t(10, 1320.0)\t(11, 1317.0)\t(12, 1344.0)\t(13, 1324.0)\t(14, 1346.0)\t(15, 1310.0)\t(16, 1327.0)\t(17, 1268.0)\t(18, 1282.0)\t(19, 1183.0)\t(20, 1194.0)\t(21, 1115.0)\t(22, 1124.0)\t(23, 1057.0)\t(24, 1065.0)\t(25, 976.0)\t(26, 982.0)\t(27, 902.0)\t(28, 908.0)\t(29, 829.0)\t(30, 833.0)\t(31, 748.0)\t(32, 752.0)\t(33, 668.0)\t(34, 670.0)\t(35, 571.0)\t(36, 573.0)\t(37, 447.0)\t(38, 448.0)\t(39, 313.0)\t(40, 314.0)\t(41, 184.0)\t(42, 184.0)\t(43, 94.0)\t(44, 94.0)\t(45, 34.0)\t(46, 34.0)\t(47, 1.0)\t(48, 1.0)\t(49, 0.0)\t(50, 0.0)\t(51, 0.0)\t\n",
      "\n",
      "\n",
      "naufragia\n",
      "(2, 344.0)\t(3, 515.0)\t(4, 620.0)\t(5, 686.0)\t(6, 738.0)\t(7, 745.0)\t(8, 775.0)\t(9, 750.0)\t(10, 770.0)\t(11, 710.0)\t(12, 724.0)\t(13, 661.0)\t(14, 672.0)\t(15, 621.0)\t(16, 629.0)\t(17, 566.0)\t(18, 572.0)\t(19, 486.0)\t(20, 491.0)\t(21, 407.0)\t(22, 410.0)\t(23, 311.0)\t(24, 314.0)\t(25, 222.0)\t(26, 224.0)\t(27, 140.0)\t(28, 141.0)\t(29, 72.0)\t(30, 73.0)\t(31, 30.0)\t(32, 31.0)\t(33, 5.0)\t(34, 5.0)\t(35, 1.0)\t\n",
      "\n",
      "\n",
      "tonkawae\n",
      "(2, 393.0)\t(3, 590.0)\t(4, 721.0)\t(5, 818.0)\t(6, 897.0)\t(7, 964.0)\t(8, 1023.0)\t(9, 1075.0)\t(10, 1122.0)\t(11, 1164.0)\t(12, 1204.0)\t(13, 1240.0)\t(14, 1275.0)\t(15, 1307.0)\t(16, 1338.0)\t(17, 1366.0)\t(18, 1394.0)\t(19, 1420.0)\t(20, 1446.0)\t(21, 1467.0)\t(22, 1491.0)\t(23, 1512.0)\t(24, 1534.0)\t(25, 1553.0)\t(26, 1574.0)\t(27, 1588.0)\t(28, 1607.0)\t(29, 1621.0)\t(30, 1639.0)\t(31, 1650.0)\t(32, 1667.0)\t(33, 1669.0)\t(34, 1684.0)\t(35, 1680.0)\t(36, 1695.0)\t(37, 1672.0)\t(38, 1686.0)\t(39, 1666.0)\t(40, 1679.0)\t(41, 1651.0)\t(42, 1663.0)\t(43, 1632.0)\t(44, 1644.0)\t(45, 1625.0)\t(46, 1635.0)\t(47, 1608.0)\t(48, 1618.0)\t(49, 1588.0)\t(50, 1597.0)\t(51, 1561.0)\t(52, 1569.0)\t(53, 1545.0)\t(54, 1554.0)\t(55, 1527.0)\t(56, 1535.0)\t(57, 1506.0)\t(58, 1514.0)\t(59, 1477.0)\t(60, 1484.0)\t(61, 1450.0)\t(62, 1457.0)\t(63, 1422.0)\t(64, 1428.0)\t(65, 1409.0)\t(66, 1415.0)\t(67, 1380.0)\t(68, 1386.0)\t(69, 1355.0)\t(70, 1361.0)\t(71, 1328.0)\t(72, 1333.0)\t(73, 1311.0)\t(74, 1315.0)\t(75, 1280.0)\t(76, 1284.0)\t(77, 1261.0)\t(78, 1265.0)\t(79, 1227.0)\t(80, 1231.0)\t(81, 1199.0)\t(82, 1202.0)\t(83, 1168.0)\t(84, 1171.0)\t(85, 1129.0)\t(86, 1132.0)\t(87, 1107.0)\t(88, 1110.0)\t(89, 1071.0)\t(90, 1074.0)\t(91, 1027.0)\t(92, 1029.0)\t(93, 981.0)\t(94, 984.0)\t(95, 941.0)\t(96, 943.0)\t(97, 904.0)\t(98, 906.0)\t(99, 876.0)\t(100, 878.0)\t(101, 816.0)\t(102, 818.0)\t(103, 764.0)\t(104, 766.0)\t(105, 717.0)\t(106, 719.0)\t(107, 663.0)\t(108, 665.0)\t(109, 607.0)\t(110, 608.0)\t(111, 538.0)\t(112, 540.0)\t(113, 453.0)\t(114, 453.0)\t(115, 381.0)\t(116, 382.0)\t(117, 296.0)\t(118, 296.0)\t(119, 222.0)\t(120, 222.0)\t(121, 150.0)\t(122, 150.0)\t(123, 89.0)\t(124, 89.0)\t(125, 51.0)\t(126, 51.0)\t(127, 18.0)\t(128, 18.0)\t(129, 8.0)\t(130, 8.0)\t(131, 1.0)\t(132, 1.0)\t(133, 0.0)\t(134, 0.0)\t(135, 0.0)\t\n",
      "\n",
      "\n"
     ]
    }
   ],
   "source": [
    "%run easySFS.py -i ~/GoogleDrive/Chapter2/Processed/NoPairsNorth.thinned.vcf \\\n",
    "-p ~/GoogleDrive/Chapter2/dadi/DadiPopList.txt \\\n",
    "--preview -a\n",
    "# already thinned, no need to keep one SNP per locus"
   ]
  },
  {
   "cell_type": "markdown",
   "metadata": {},
   "source": [
    "Looks like pops are processed alphabetically?\n",
    "\n",
    "I'll try first by just maximizing the number of segregating sites, although that may be bad for sample size.\n",
    "Looks like chisholmensis:14,1346, naufragia:8,775, tonkawae:36,1695"
   ]
  },
  {
   "cell_type": "code",
   "execution_count": 21,
   "metadata": {
    "collapsed": false
   },
   "outputs": [
    {
     "name": "stdout",
     "output_type": "stream",
     "text": [
      "Processing 3 populations - ['chisholmensis', 'naufragia', 'tonkawae']\n",
      "Doing 1D sfs - chisholmensis\n",
      "Doing 1D sfs - naufragia\n",
      "Doing 1D sfs - tonkawae\n",
      "Doing 2D sfs - ('chisholmensis', 'naufragia')\n",
      "Doing 2D sfs - ('chisholmensis', 'tonkawae')\n",
      "Doing 2D sfs - ('naufragia', 'tonkawae')\n",
      "Doing multiSFS for all pops\n"
     ]
    }
   ],
   "source": [
    "%run easySFS.py -i ~/GoogleDrive/Chapter2/Processed/NoPairsNorth.thinned.vcf \\\n",
    "-p ~/GoogleDrive/Chapter2/dadi/DadiPopList.txt \\\n",
    "-a --proj 14,8,36 -o MaxSeg"
   ]
  }
 ],
 "metadata": {
  "anaconda-cloud": {},
  "kernelspec": {
   "display_name": "Python 2",
   "language": "python",
   "name": "python2"
  },
  "language_info": {
   "codemirror_mode": {
    "name": "ipython",
    "version": 2
   },
   "file_extension": ".py",
   "mimetype": "text/x-python",
   "name": "python",
   "nbconvert_exporter": "python",
   "pygments_lexer": "ipython2",
   "version": "2.7.13"
  }
 },
 "nbformat": 4,
 "nbformat_minor": 2
}
